{
 "cells": [
  {
   "cell_type": "code",
   "execution_count": 104,
   "metadata": {},
   "outputs": [],
   "source": [
    "import pandas as pd\n",
    "import re\n",
    "import string\n",
    "from sklearn.feature_extraction.text import TfidfVectorizer\n",
    "from sklearn.svm import LinearSVC, SVC\n",
    "from sklearn.calibration import CalibratedClassifierCV\n",
    "from sklearn.model_selection import train_test_split\n",
    "from sklearn.linear_model import SGDClassifier\n",
    "from sklearn import metrics\n",
    "from sklearn.ensemble import RandomForestClassifier\n",
    "from sklearn import tree\n"
   ]
  },
  {
   "cell_type": "code",
   "execution_count": 2,
   "metadata": {},
   "outputs": [],
   "source": [
    "train_file_path = \"./data/train.csv\"\n",
    "train_data_cols = [\"id\", \"keyword\", \"location\", \"text\"]\n",
    "train_label = \"target\"\n",
    "train_cols = [train_label] + train_data_cols\n",
    "test_file_path = \"./data/test.csv\"\n",
    "test_cols = train_data_cols\n",
    "    "
   ]
  },
  {
   "cell_type": "code",
   "execution_count": 3,
   "metadata": {},
   "outputs": [],
   "source": [
    "train_df = pd.read_csv(train_file_path, usecols=train_cols)\n",
    "test_df = pd.read_csv(test_file_path, usecols=test_cols)"
   ]
  },
  {
   "cell_type": "code",
   "execution_count": 4,
   "metadata": {},
   "outputs": [
    {
     "data": {
      "text/html": [
       "<div>\n",
       "<style scoped>\n",
       "    .dataframe tbody tr th:only-of-type {\n",
       "        vertical-align: middle;\n",
       "    }\n",
       "\n",
       "    .dataframe tbody tr th {\n",
       "        vertical-align: top;\n",
       "    }\n",
       "\n",
       "    .dataframe thead th {\n",
       "        text-align: right;\n",
       "    }\n",
       "</style>\n",
       "<table border=\"1\" class=\"dataframe\">\n",
       "  <thead>\n",
       "    <tr style=\"text-align: right;\">\n",
       "      <th></th>\n",
       "      <th>id</th>\n",
       "      <th>keyword</th>\n",
       "      <th>location</th>\n",
       "      <th>text</th>\n",
       "    </tr>\n",
       "  </thead>\n",
       "  <tbody>\n",
       "    <tr>\n",
       "      <td>0</td>\n",
       "      <td>0</td>\n",
       "      <td>NaN</td>\n",
       "      <td>NaN</td>\n",
       "      <td>Just happened a terrible car crash</td>\n",
       "    </tr>\n",
       "    <tr>\n",
       "      <td>1</td>\n",
       "      <td>2</td>\n",
       "      <td>NaN</td>\n",
       "      <td>NaN</td>\n",
       "      <td>Heard about #earthquake is different cities, s...</td>\n",
       "    </tr>\n",
       "    <tr>\n",
       "      <td>2</td>\n",
       "      <td>3</td>\n",
       "      <td>NaN</td>\n",
       "      <td>NaN</td>\n",
       "      <td>there is a forest fire at spot pond, geese are...</td>\n",
       "    </tr>\n",
       "    <tr>\n",
       "      <td>3</td>\n",
       "      <td>9</td>\n",
       "      <td>NaN</td>\n",
       "      <td>NaN</td>\n",
       "      <td>Apocalypse lighting. #Spokane #wildfires</td>\n",
       "    </tr>\n",
       "    <tr>\n",
       "      <td>4</td>\n",
       "      <td>11</td>\n",
       "      <td>NaN</td>\n",
       "      <td>NaN</td>\n",
       "      <td>Typhoon Soudelor kills 28 in China and Taiwan</td>\n",
       "    </tr>\n",
       "  </tbody>\n",
       "</table>\n",
       "</div>"
      ],
      "text/plain": [
       "   id keyword location                                               text\n",
       "0   0     NaN      NaN                 Just happened a terrible car crash\n",
       "1   2     NaN      NaN  Heard about #earthquake is different cities, s...\n",
       "2   3     NaN      NaN  there is a forest fire at spot pond, geese are...\n",
       "3   9     NaN      NaN           Apocalypse lighting. #Spokane #wildfires\n",
       "4  11     NaN      NaN      Typhoon Soudelor kills 28 in China and Taiwan"
      ]
     },
     "execution_count": 4,
     "metadata": {},
     "output_type": "execute_result"
    }
   ],
   "source": [
    "test_df.head()"
   ]
  },
  {
   "cell_type": "code",
   "execution_count": 5,
   "metadata": {},
   "outputs": [
    {
     "data": {
      "text/html": [
       "<div>\n",
       "<style scoped>\n",
       "    .dataframe tbody tr th:only-of-type {\n",
       "        vertical-align: middle;\n",
       "    }\n",
       "\n",
       "    .dataframe tbody tr th {\n",
       "        vertical-align: top;\n",
       "    }\n",
       "\n",
       "    .dataframe thead th {\n",
       "        text-align: right;\n",
       "    }\n",
       "</style>\n",
       "<table border=\"1\" class=\"dataframe\">\n",
       "  <thead>\n",
       "    <tr style=\"text-align: right;\">\n",
       "      <th></th>\n",
       "      <th>id</th>\n",
       "      <th>keyword</th>\n",
       "      <th>location</th>\n",
       "      <th>text</th>\n",
       "      <th>target</th>\n",
       "    </tr>\n",
       "  </thead>\n",
       "  <tbody>\n",
       "    <tr>\n",
       "      <td>0</td>\n",
       "      <td>1</td>\n",
       "      <td>NaN</td>\n",
       "      <td>NaN</td>\n",
       "      <td>Our Deeds are the Reason of this #earthquake M...</td>\n",
       "      <td>1</td>\n",
       "    </tr>\n",
       "    <tr>\n",
       "      <td>1</td>\n",
       "      <td>4</td>\n",
       "      <td>NaN</td>\n",
       "      <td>NaN</td>\n",
       "      <td>Forest fire near La Ronge Sask. Canada</td>\n",
       "      <td>1</td>\n",
       "    </tr>\n",
       "    <tr>\n",
       "      <td>2</td>\n",
       "      <td>5</td>\n",
       "      <td>NaN</td>\n",
       "      <td>NaN</td>\n",
       "      <td>All residents asked to 'shelter in place' are ...</td>\n",
       "      <td>1</td>\n",
       "    </tr>\n",
       "    <tr>\n",
       "      <td>3</td>\n",
       "      <td>6</td>\n",
       "      <td>NaN</td>\n",
       "      <td>NaN</td>\n",
       "      <td>13,000 people receive #wildfires evacuation or...</td>\n",
       "      <td>1</td>\n",
       "    </tr>\n",
       "    <tr>\n",
       "      <td>4</td>\n",
       "      <td>7</td>\n",
       "      <td>NaN</td>\n",
       "      <td>NaN</td>\n",
       "      <td>Just got sent this photo from Ruby #Alaska as ...</td>\n",
       "      <td>1</td>\n",
       "    </tr>\n",
       "  </tbody>\n",
       "</table>\n",
       "</div>"
      ],
      "text/plain": [
       "   id keyword location                                               text  \\\n",
       "0   1     NaN      NaN  Our Deeds are the Reason of this #earthquake M...   \n",
       "1   4     NaN      NaN             Forest fire near La Ronge Sask. Canada   \n",
       "2   5     NaN      NaN  All residents asked to 'shelter in place' are ...   \n",
       "3   6     NaN      NaN  13,000 people receive #wildfires evacuation or...   \n",
       "4   7     NaN      NaN  Just got sent this photo from Ruby #Alaska as ...   \n",
       "\n",
       "   target  \n",
       "0       1  \n",
       "1       1  \n",
       "2       1  \n",
       "3       1  \n",
       "4       1  "
      ]
     },
     "execution_count": 5,
     "metadata": {},
     "output_type": "execute_result"
    }
   ],
   "source": [
    "train_df.head()"
   ]
  },
  {
   "cell_type": "code",
   "execution_count": 126,
   "metadata": {},
   "outputs": [],
   "source": [
    "def data_clean(text: str):\n",
    "\ttext = re.sub('<[^<]+?>', ' ', text)\n",
    "\n",
    "\ttext = text.replace('\\\\\"', '')\n",
    "\n",
    "\ttext = text.replace('\\n', ' ')\n",
    "\n",
    "\ttext = text.replace('\\t', ' ')\n",
    "\n",
    "\ttext = text.replace('\"', '')\n",
    "\n",
    "\ttext = text.translate(str.maketrans('', '', string.punctuation))\n",
    "\n",
    "\ttext = re.sub(' +', ' ', text)\n",
    "\n",
    "\ttext = re.sub('\\d+', '0', text)\n",
    "\n",
    "\ttext = text.lower()\n",
    "\n",
    "\treturn text\n",
    "\n",
    "def data_preprocessing(train_data: pd.DataFrame,  test_data: pd.DataFrame, label_col: str, text_column: str):\n",
    "    cleaned_train_data = [data_clean(w) for w in train_data[text_column]]\n",
    "    cleaned_test_data = [data_clean(w) for w in test_data[text_column]]\n",
    "    \n",
    "    x_train, x_validaion, y_train, y_validaion = train_test_split(\n",
    "        cleaned_train_data, train_data[label_col], test_size=0.1, random_state=255, shuffle=True)\n",
    "\n",
    "    tfidf_vectorizer = TfidfVectorizer(analyzer='word', stop_words='english', ngram_range=(1, 3), norm='l2')\n",
    "\n",
    "    tfidf_train = tfidf_vectorizer.fit_transform(x_train)\n",
    "    \n",
    "    tfidf_validation = tfidf_vectorizer.transform(x_validaion)\n",
    "\n",
    "    tfidf_test = tfidf_vectorizer.transform(cleaned_test_data)\n",
    "\n",
    "    return tfidf_train, tfidf_validation, y_train, y_validaion, tfidf_test\n"
   ]
  },
  {
   "cell_type": "code",
   "execution_count": 129,
   "metadata": {},
   "outputs": [
    {
     "name": "stdout",
     "output_type": "stream",
     "text": [
      "  (0, 37149)\t0.1913895318089874\n",
      "  (0, 31343)\t0.1913895318089874\n",
      "  (0, 24770)\t0.1913895318089874\n",
      "  (0, 76139)\t0.1913895318089874\n",
      "  (0, 9373)\t0.1913895318089874\n",
      "  (0, 23726)\t0.1913895318089874\n",
      "  (0, 13501)\t0.1913895318089874\n",
      "  (0, 102818)\t0.1913895318089874\n",
      "  (0, 13577)\t0.1913895318089874\n",
      "  (0, 36597)\t0.1913895318089874\n",
      "  (0, 68942)\t0.1913895318089874\n",
      "  (0, 37148)\t0.1913895318089874\n",
      "  (0, 31342)\t0.1913895318089874\n",
      "  (0, 24769)\t0.1913895318089874\n",
      "  (0, 76138)\t0.1913895318089874\n",
      "  (0, 9372)\t0.1913895318089874\n",
      "  (0, 23725)\t0.1913895318089874\n",
      "  (0, 13500)\t0.1913895318089874\n",
      "  (0, 102817)\t0.1913895318089874\n",
      "  (0, 13576)\t0.1828983933088555\n",
      "  (0, 36596)\t0.1913895318089874\n",
      "  (0, 58086)\t0.11881104609696473\n",
      "  (0, 68925)\t0.14024257359236528\n",
      "  (0, 37092)\t0.12440380131173821\n",
      "  (0, 31322)\t0.12483560473923737\n",
      "  (0, 24751)\t0.13145011011973975\n",
      "  (0, 76111)\t0.11947591858339354\n",
      "  (0, 9371)\t0.1913895318089874\n",
      "  (0, 23722)\t0.13467829115462568\n",
      "  (0, 102808)\t0.12918393106659462\n",
      "  (0, 13468)\t0.23211122058014372\n",
      "  (0, 36567)\t0.11053919467153199\n"
     ]
    }
   ],
   "source": [
    "tfidf_train, tfidf_validation, y_train, y_validaion,  tfidf_test = data_preprocessing(train_df, test_df, 'target', 'text')\n",
    "tfidf_train.shape, tfidf_test.shape, tfidf_validation.shape"
   ]
  },
  {
   "cell_type": "code",
   "execution_count": 128,
   "metadata": {},
   "outputs": [
    {
     "name": "stdout",
     "output_type": "stream",
     "text": [
      "accuracy 0.7979002624671916\n",
      "done\n"
     ]
    }
   ],
   "source": [
    "linear_svc = LinearSVC(random_state=55, loss='hinge')\n",
    "\n",
    "classifier = CalibratedClassifierCV(linear_svc, method='sigmoid', cv=2)\n",
    "\n",
    "classifier.fit(tfidf_train, y_train)\n",
    "\n",
    "pred_validation = classifier.predict(tfidf_validation)\n",
    "accuracy = metrics.accuracy_score(y_validaion, pred_validation)\n",
    "\n",
    "print(\"accuracy\", accuracy)\n",
    "\n",
    "\n",
    "pred = classifier.predict(tfidf_test)\n",
    "\n",
    "with open('output.csv', 'w') as file:\n",
    "    _str = ','.join(['id', 'target'])\n",
    "    file.write(_str + '\\n')\n",
    "\n",
    "    for i in range(len(pred)):\n",
    "        _str = ','.join([str(test_df['id'][i]), str(pred[i])])\n",
    "        file.write(_str)\n",
    "        file.write('\\n')\n",
    "\n",
    "print(\"done\")"
   ]
  },
  {
   "cell_type": "code",
   "execution_count": 102,
   "metadata": {},
   "outputs": [
    {
     "data": {
      "text/plain": [
       "LinearSVC(C=1.0, class_weight=None, dual=True, fit_intercept=True,\n",
       "          intercept_scaling=1, loss='hinge', max_iter=1000, multi_class='ovr',\n",
       "          penalty='l2', random_state=55, tol=0.0001, verbose=0)"
      ]
     },
     "execution_count": 102,
     "metadata": {},
     "output_type": "execute_result"
    }
   ],
   "source": [
    "classifier.base_estimator"
   ]
  }
 ],
 "metadata": {
  "kernelspec": {
   "display_name": "Python 3",
   "language": "python",
   "name": "python3"
  },
  "language_info": {
   "codemirror_mode": {
    "name": "ipython",
    "version": 3
   },
   "file_extension": ".py",
   "mimetype": "text/x-python",
   "name": "python",
   "nbconvert_exporter": "python",
   "pygments_lexer": "ipython3",
   "version": "3.7.4"
  }
 },
 "nbformat": 4,
 "nbformat_minor": 2
}
