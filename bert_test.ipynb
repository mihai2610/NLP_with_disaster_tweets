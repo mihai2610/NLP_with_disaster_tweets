{
 "cells": [
  {
   "cell_type": "code",
   "execution_count": 0,
   "metadata": {
    "colab": {},
    "colab_type": "code",
    "id": "pkIFgcYhNeEY"
   },
   "outputs": [],
   "source": [
    "import numpy as np\n",
    "import math\n",
    "import re\n",
    "import pandas as pd\n",
    "from google.colab import drive\n",
    "import string\n",
    "import random\n",
    "import matplotlib.pyplot as plt\n",
    "import os\n",
    "from sklearn.model_selection import train_test_split"
   ]
  },
  {
   "cell_type": "code",
   "execution_count": 0,
   "metadata": {
    "colab": {},
    "colab_type": "code",
    "id": "jtOQOO7ZOeOP"
   },
   "outputs": [],
   "source": [
    "!pip install bert-for-tf2\n",
    "!pip install sentencepiece"
   ]
  },
  {
   "cell_type": "code",
   "execution_count": 0,
   "metadata": {
    "colab": {},
    "colab_type": "code",
    "id": "khAgIroCO6pN"
   },
   "outputs": [],
   "source": [
    "try:\n",
    "    %tensorflow_version 2.x\n",
    "except Exception:\n",
    "    pass\n",
    "import tensorflow as tf\n",
    "import tensorflow_hub as hub\n",
    "from tensorflow.keras import layers, Sequential\n",
    "import bert\n",
    "from tensorflow.keras import regularizers\n",
    "from tensorflow.keras.backend import expand_dims\n",
    "from tensorflow.keras.preprocessing import sequence"
   ]
  },
  {
   "cell_type": "code",
   "execution_count": 7,
   "metadata": {
    "colab": {
     "base_uri": "https://localhost:8080/",
     "height": 34
    },
    "colab_type": "code",
    "id": "_nwfKfIDQN-c",
    "outputId": "9c452e1f-7b0e-4713-cc89-31f6c9354384"
   },
   "outputs": [
    {
     "name": "stdout",
     "output_type": "stream",
     "text": [
      "Drive already mounted at /content/drive; to attempt to forcibly remount, call drive.mount(\"/content/drive\", force_remount=True).\n"
     ]
    }
   ],
   "source": [
    "drive.mount(\"/content/drive\")"
   ]
  },
  {
   "cell_type": "code",
   "execution_count": 10,
   "metadata": {
    "colab": {
     "base_uri": "https://localhost:8080/",
     "height": 34
    },
    "colab_type": "code",
    "id": "pP2uXmN9QzfZ",
    "outputId": "bcb7c938-295f-4afa-d67e-0b2130e6ebf0"
   },
   "outputs": [
    {
     "data": {
      "text/plain": [
       "((7613, 5), (3263, 4))"
      ]
     },
     "execution_count": 10,
     "metadata": {
      "tags": []
     },
     "output_type": "execute_result"
    }
   ],
   "source": [
    "train_data_cols = [\"id\", \"keyword\", \"location\", \"text\"]\n",
    "train_file_path = \"/content/drive/My Drive/ssl/train.csv\"\n",
    "train_label = \"target\"\n",
    "train_cols = [train_label] + train_data_cols\n",
    "test_file_path = \"/content/drive/My Drive/ssl/test.csv\"\n",
    "test_cols = train_data_cols\n",
    "\n",
    "train_df = pd.read_csv(train_file_path, usecols=train_cols)\n",
    "test_df = pd.read_csv(test_file_path, usecols=test_cols)\n",
    "\n",
    "train_df.shape, test_df.shape"
   ]
  },
  {
   "cell_type": "code",
   "execution_count": 0,
   "metadata": {
    "colab": {},
    "colab_type": "code",
    "id": "yXao5BpqRlTf"
   },
   "outputs": [],
   "source": [
    "def data_clean(text: str):\n",
    "\ttext = re.sub('<[^<]+?>', ' ', text)\n",
    "\n",
    "\ttext = text.replace('\\\\\"', '')\n",
    "\n",
    "\ttext = text.replace('\\n', ' ')\n",
    "\n",
    "\ttext = text.replace('\\t', ' ')\n",
    "\n",
    "\ttext = text.replace('\"', '')\n",
    "\n",
    "\ttext = text.translate(str.maketrans('', '', string.punctuation))\n",
    "\n",
    "\ttext = re.sub(' +', ' ', text)\n",
    "\n",
    "\ttext = re.sub('\\d+', '0', text)\n",
    "\n",
    "\ttext = text.lower()\n",
    "\n",
    "\treturn text\n",
    "\n",
    "test_sentences = [w for w in test_df['text'].values]\n",
    "train_sentences = [w for w in train_df['text'].values]\n",
    "\n",
    "data_labels = train_df[train_label].values"
   ]
  },
  {
   "cell_type": "code",
   "execution_count": 0,
   "metadata": {
    "colab": {},
    "colab_type": "code",
    "id": "IXI3GVUASoWi"
   },
   "outputs": [],
   "source": [
    "bert_layer = hub.KerasLayer(\"https://tfhub.dev/tensorflow/bert_en_uncased_L-12_H-768_A-12/1\", trainable=False)\n",
    "vocab_file = bert_layer.resolved_object.vocab_file.asset_path.numpy()\n",
    "do_lower_case = bert_layer.resolved_object.do_lower_case.numpy()\n",
    "\n",
    "tokenizer = bert.bert_tokenization.FullTokenizer(vocab_file, do_lower_case)"
   ]
  },
  {
   "cell_type": "code",
   "execution_count": 0,
   "metadata": {
    "colab": {},
    "colab_type": "code",
    "id": "m5nRMDy_Tn3u"
   },
   "outputs": [],
   "source": [
    "def encode_sentence(sentence):\n",
    "    return tokenizer.convert_tokens_to_ids(tokenizer.tokenize(sentence))\n",
    "\n",
    "train_data_inputs = [encode_sentence(sentence) for sentence in train_sentences]\n",
    "test_data_inputs = [encode_sentence(sentence) for sentence in test_sentences]"
   ]
  },
  {
   "cell_type": "code",
   "execution_count": 462,
   "metadata": {
    "colab": {
     "base_uri": "https://localhost:8080/",
     "height": 956
    },
    "colab_type": "code",
    "id": "ZD_UU_8LiM7Z",
    "outputId": "3fce5c65-019b-4d84-ef33-8d8799c045a1"
   },
   "outputs": [
    {
     "name": "stdout",
     "output_type": "stream",
     "text": [
      "Model: \"sequential_39\"\n",
      "_________________________________________________________________\n",
      "Layer (type)                 Output Shape              Param #   \n",
      "=================================================================\n",
      "embedding_121 (Embedding)    (None, None, 300)         9156600   \n",
      "_________________________________________________________________\n",
      "lstm_86 (LSTM)               (None, 128)               219648    \n",
      "_________________________________________________________________\n",
      "dropout_106 (Dropout)        (None, 128)               0         \n",
      "_________________________________________________________________\n",
      "dense_191 (Dense)            (None, 128)               16512     \n",
      "_________________________________________________________________\n",
      "dropout_107 (Dropout)        (None, 128)               0         \n",
      "_________________________________________________________________\n",
      "dense_192 (Dense)            (None, 1)                 129       \n",
      "=================================================================\n",
      "Total params: 9,392,889\n",
      "Trainable params: 9,392,889\n",
      "Non-trainable params: 0\n",
      "_________________________________________________________________\n",
      "Epoch 1/4\n",
      "191/191 [==============================] - 21s 108ms/step - loss: 7.9351 - accuracy: 0.6236\n",
      "Epoch 2/4\n",
      "191/191 [==============================] - 20s 106ms/step - loss: 0.7029 - accuracy: 0.7430\n",
      "Epoch 3/4\n",
      "191/191 [==============================] - 20s 106ms/step - loss: 0.6721 - accuracy: 0.7992\n",
      "Epoch 4/4\n",
      "191/191 [==============================] - 20s 106ms/step - loss: 0.4802 - accuracy: 0.8808\n",
      "48/48 [==============================] - 0s 10ms/step - loss: 0.6518 - accuracy: 0.7367\n"
     ]
    },
    {
     "name": "stderr",
     "output_type": "stream",
     "text": [
      "/usr/local/lib/python3.6/dist-packages/ipykernel_launcher.py:8: MatplotlibDeprecationWarning: Passing the minor parameter of set_xticks() positionally is deprecated since Matplotlib 3.2; the parameter will become keyword-only two minor releases later.\n",
      "  \n",
      "/usr/local/lib/python3.6/dist-packages/ipykernel_launcher.py:15: MatplotlibDeprecationWarning: Passing the minor parameter of set_xticks() positionally is deprecated since Matplotlib 3.2; the parameter will become keyword-only two minor releases later.\n",
      "  from ipykernel import kernelapp as app\n"
     ]
    },
    {
     "data": {
      "image/png": "[encoded data removed]",
      "text/plain": [
       "<Figure size 1080x360 with 2 Axes>"
      ]
     },
     "metadata": {
      "needs_background": "light",
      "tags": []
     },
     "output_type": "display_data"
    }
   ],
   "source": [
    "x_train, x_validation, y_train, y_validation = train_test_split(\n",
    "\t\ttrain_data_inputs,\n",
    "\t\tdata_labels,\n",
    "\t\ttest_size=0.2,\n",
    "\t\trandom_state=125,\n",
    "\t\tshuffle=True)\n",
    "x_train = sequence.pad_sequences(x_train, maxlen=EMB_DIM)\n",
    "x_validation = sequence.pad_sequences(x_validation, maxlen=EMB_DIM)\n",
    "\n",
    "x_test = sequence.pad_sequences(test_data_inputs, maxlen=EMB_DIM)\n",
    "\n",
    "def get_model(vocab_size, emb_dim=128, nb_filters=50, FFN_units=512, nb_classes=2, dropout_rate=0.1, training=False, name=\"dcnn\"):\n",
    "\n",
    "    model = Sequential()\n",
    "    model.add(layers.Embedding(vocab_size, emb_dim))\n",
    "    model.add(layers.LSTM(128, kernel_regularizer=regularizers.l2(0.15)))\n",
    "    model.add(layers.Dropout(0.4))\n",
    "    model.add(layers.Dense(units=128, activation=\"tanh\"))\n",
    "    model.add(layers.Dropout(0.4))\n",
    "    model.add(layers.Dense(1, activation=\"sigmoid\"))\n",
    "    model.summary()\n",
    "\n",
    "    return model\n",
    "\n",
    "dcnn = get_model(vocab_size=VOCAB_SIZE, emb_dim=EMB_DIM, nb_filters=NB_FILTERS, FFN_units=FNN_units, nb_classes=NB_CLASSES, dropout_rate=DROPOUT_RATE, training=False, name=\"dcnn\")\n",
    "\n",
    "dcnn.compile(loss='binary_crossentropy', optimizer='adam', metrics=['accuracy'])\n",
    "\n",
    "history = dcnn.fit(x_train, y_train,  epochs=NB_EPOCHS, callbacks=[MyCustomCallback(), tensorboard_callback])\n",
    "\n",
    "eval = dcnn.evaluate(x_validation, y_validation)\n",
    "\n",
    "plot_model_history(history)"
   ]
  },
  {
   "cell_type": "code",
   "execution_count": 0,
   "metadata": {
    "colab": {},
    "colab_type": "code",
    "id": "BGdH8GMnekhX"
   },
   "outputs": [],
   "source": [
    "VOCAB_SIZE=len(tokenizer.vocab)\n",
    "EMB_DIM = 300\n",
    "NB_FILTERS = 256\n",
    "FNN_units = 64\n",
    "NB_CLASSES = 2\n",
    "\n",
    "DROPOUT_RATE = 0.5\n",
    "\n",
    "NB_EPOCHS = 4"
   ]
  },
  {
   "cell_type": "code",
   "execution_count": 0,
   "metadata": {
    "colab": {},
    "colab_type": "code",
    "id": "6VeUoCYwIZ_u"
   },
   "outputs": [],
   "source": [
    "def plot_model_history(model_history):\n",
    "    fig, axs = plt.subplots(1, 2, figsize=(15, 5))\n",
    "    # summarize history for accuracy\n",
    "    axs[0].plot(range(1, len(model_history.history['accuracy']) + 1), model_history.history['accuracy'])\n",
    "    axs[0].set_title('Model Accuracy')\n",
    "    axs[0].set_ylabel('Accuracy')\n",
    "    axs[0].set_xlabel('Epoch')\n",
    "    axs[0].set_xticks(np.arange(1, len(model_history.history['accuracy']) + 1), len(model_history.history['accuracy'])/10)\n",
    "    axs[0].legend(['train', 'val'], loc='best')\n",
    "    # summarize history for loss\n",
    "    axs[1].plot(range(1, len(model_history.history['loss']) + 1), model_history.history['loss'])\n",
    "    axs[1].set_title('Model Loss')\n",
    "    axs[1].set_ylabel('Loss')\n",
    "    axs[1].set_xlabel('Epoch')\n",
    "    axs[1].set_xticks(np.arange(1, len(model_history.history['loss']) + 1), len(model_history.history['loss'])/10)\n",
    "    axs[1].legend(['train', 'val'], loc='best')\n",
    "    plt.show()\n",
    "logs_path = \"/content/drive/My Drive/ssl/logs\"\n",
    "logdir = os.path.join(logs_path, \"log_file\")\n",
    "tensorboard_callback = tf.keras.callbacks.TensorBoard(logdir, histogram_freq=1)"
   ]
  },
  {
   "cell_type": "code",
   "execution_count": 0,
   "metadata": {
    "colab": {},
    "colab_type": "code",
    "id": "UsLqm2MRg-Pr"
   },
   "outputs": [],
   "source": [
    "output_csv_path = \"/content/drive/My Drive/ssl/out.csv\"\n",
    "predictions = dcnn.predict(x_train)\n",
    "\n",
    "with open(output_csv_path, 'w') as file:\n",
    "    _str = ','.join(['id', 'target'])\n",
    "    file.write(_str + '\\n')\n",
    "\n",
    "    for index,row in test_df.iterrows():\n",
    "\n",
    "        _id = row['id']\n",
    "        prediction = math.floor(predictions[index] *2)\n",
    "        \n",
    "        _str = ','.join([str(_id), str(int(prediction))])\n",
    "        file.write(_str)\n",
    "        file.write('\\n')"
   ]
  }
 ],
 "metadata": {
  "accelerator": "GPU",
  "colab": {
   "collapsed_sections": [],
   "name": "bert_test.ipynb",
   "provenance": []
  },
  "kernelspec": {
   "display_name": "Python 3",
   "language": "python",
   "name": "python3"
  },
  "language_info": {
   "codemirror_mode": {
    "name": "ipython",
    "version": 3
   },
   "file_extension": ".py",
   "mimetype": "text/x-python",
   "name": "python",
   "nbconvert_exporter": "python",
   "pygments_lexer": "ipython3",
   "version": "3.7.4"
  }
 },
 "nbformat": 4,
 "nbformat_minor": 1
}
