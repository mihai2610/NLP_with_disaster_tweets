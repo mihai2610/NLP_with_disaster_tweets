{
  "nbformat": 4,
  "nbformat_minor": 0,
  "metadata": {
    "colab": {
      "name": "bert_test.ipynb",
      "provenance": [],
      "collapsed_sections": []
    },
    "kernelspec": {
      "name": "python3",
      "display_name": "Python 3"
    },
    "accelerator": "GPU"
  },
  "cells": [
    {
      "cell_type": "code",
      "metadata": {
        "id": "pkIFgcYhNeEY",
        "colab_type": "code",
        "colab": {}
      },
      "source": [
        "import numpy as np\n",
        "import math\n",
        "import re\n",
        "import pandas as pd\n",
        "from google.colab import drive\n",
        "import string\n",
        "import random\n",
        "import matplotlib.pyplot as plt\n",
        "import os\n",
        "from sklearn.model_selection import train_test_split"
      ],
      "execution_count": 0,
      "outputs": []
    },
    {
      "cell_type": "code",
      "metadata": {
        "id": "jtOQOO7ZOeOP",
        "colab_type": "code",
        "colab": {}
      },
      "source": [
        "!pip install bert-for-tf2\n",
        "!pip install sentencepiece"
      ],
      "execution_count": 0,
      "outputs": []
    },
    {
      "cell_type": "code",
      "metadata": {
        "id": "khAgIroCO6pN",
        "colab_type": "code",
        "colab": {}
      },
      "source": [
        "try:\n",
        "    %tensorflow_version 2.x\n",
        "except Exception:\n",
        "    pass\n",
        "import tensorflow as tf\n",
        "import tensorflow_hub as hub\n",
        "from tensorflow.keras import layers, Sequential\n",
        "import bert\n",
        "from tensorflow.keras import regularizers\n",
        "from tensorflow.keras.backend import expand_dims\n",
        "from tensorflow.keras.preprocessing import sequence"
      ],
      "execution_count": 0,
      "outputs": []
    },
    {
      "cell_type": "code",
      "metadata": {
        "id": "_nwfKfIDQN-c",
        "colab_type": "code",
        "colab": {
          "base_uri": "https://localhost:8080/",
          "height": 34
        },
        "outputId": "9c452e1f-7b0e-4713-cc89-31f6c9354384"
      },
      "source": [
        "drive.mount(\"/content/drive\")"
      ],
      "execution_count": 7,
      "outputs": [
        {
          "output_type": "stream",
          "text": [
            "Drive already mounted at /content/drive; to attempt to forcibly remount, call drive.mount(\"/content/drive\", force_remount=True).\n"
          ],
          "name": "stdout"
        }
      ]
    },
    {
      "cell_type": "code",
      "metadata": {
        "id": "pP2uXmN9QzfZ",
        "colab_type": "code",
        "colab": {
          "base_uri": "https://localhost:8080/",
          "height": 34
        },
        "outputId": "bcb7c938-295f-4afa-d67e-0b2130e6ebf0"
      },
      "source": [
        "train_data_cols = [\"id\", \"keyword\", \"location\", \"text\"]\n",
        "train_file_path = \"/content/drive/My Drive/ssl/train.csv\"\n",
        "train_label = \"target\"\n",
        "train_cols = [train_label] + train_data_cols\n",
        "test_file_path = \"/content/drive/My Drive/ssl/test.csv\"\n",
        "test_cols = train_data_cols\n",
        "\n",
        "train_df = pd.read_csv(train_file_path, usecols=train_cols)\n",
        "test_df = pd.read_csv(test_file_path, usecols=test_cols)\n",
        "\n",
        "train_df.shape, test_df.shape"
      ],
      "execution_count": 10,
      "outputs": [
        {
          "output_type": "execute_result",
          "data": {
            "text/plain": [
              "((7613, 5), (3263, 4))"
            ]
          },
          "metadata": {
            "tags": []
          },
          "execution_count": 10
        }
      ]
    },
    {
      "cell_type": "code",
      "metadata": {
        "id": "yXao5BpqRlTf",
        "colab_type": "code",
        "colab": {}
      },
      "source": [
        "def data_clean(text: str):\n",
        "\ttext = re.sub('<[^<]+?>', ' ', text)\n",
        "\n",
        "\ttext = text.replace('\\\\\"', '')\n",
        "\n",
        "\ttext = text.replace('\\n', ' ')\n",
        "\n",
        "\ttext = text.replace('\\t', ' ')\n",
        "\n",
        "\ttext = text.replace('\"', '')\n",
        "\n",
        "\ttext = text.translate(str.maketrans('', '', string.punctuation))\n",
        "\n",
        "\ttext = re.sub(' +', ' ', text)\n",
        "\n",
        "\ttext = re.sub('\\d+', '0', text)\n",
        "\n",
        "\ttext = text.lower()\n",
        "\n",
        "\treturn text\n",
        "\n",
        "test_sentences = [w for w in test_df['text'].values]\n",
        "train_sentences = [w for w in train_df['text'].values]\n",
        "\n",
        "data_labels = train_df[train_label].values"
      ],
      "execution_count": 0,
      "outputs": []
    },
    {
      "cell_type": "code",
      "metadata": {
        "id": "IXI3GVUASoWi",
        "colab_type": "code",
        "colab": {}
      },
      "source": [
        "bert_layer = hub.KerasLayer(\"https://tfhub.dev/tensorflow/bert_en_uncased_L-12_H-768_A-12/1\", trainable=False)\n",
        "vocab_file = bert_layer.resolved_object.vocab_file.asset_path.numpy()\n",
        "do_lower_case = bert_layer.resolved_object.do_lower_case.numpy()\n",
        "\n",
        "tokenizer = bert.bert_tokenization.FullTokenizer(vocab_file, do_lower_case)"
      ],
      "execution_count": 0,
      "outputs": []
    },
    {
      "cell_type": "code",
      "metadata": {
        "id": "m5nRMDy_Tn3u",
        "colab_type": "code",
        "colab": {}
      },
      "source": [
        "def encode_sentence(sentence):\n",
        "    return tokenizer.convert_tokens_to_ids(tokenizer.tokenize(sentence))\n",
        "\n",
        "train_data_inputs = [encode_sentence(sentence) for sentence in train_sentences]\n",
        "test_data_inputs = [encode_sentence(sentence) for sentence in test_sentences]"
      ],
      "execution_count": 0,
      "outputs": []
    },
    {
      "cell_type": "code",
      "metadata": {
        "id": "__mEot1WU_dF",
        "colab_type": "code",
        "colab": {}
      },
      "source": [
        "data_with_len = [[sent, data_labels[i], len(sent)] for i, sent in enumerate(train_data_inputs)]\n",
        "random.shuffle(data_with_len)\n",
        "data_with_len.sort(key=lambda x: x[2] )\n",
        "train_sorted_all = [(sent_lab[0], sent_lab[1]) for sent_lab in data_with_len if sent_lab[2] > 2]"
      ],
      "execution_count": 0,
      "outputs": []
    },
    {
      "cell_type": "code",
      "metadata": {
        "id": "5HBFlOlXWuaO",
        "colab_type": "code",
        "colab": {}
      },
      "source": [
        "train_all_dataset = tf.data.Dataset.from_generator(lambda: train_sorted_all, output_types=(tf.int32, tf.int32))"
      ],
      "execution_count": 0,
      "outputs": []
    },
    {
      "cell_type": "code",
      "metadata": {
        "id": "omvRU8YfmCCh",
        "colab_type": "code",
        "colab": {}
      },
      "source": [
        "test_data_all = [sent for i, sent in enumerate(test_data_inputs)]\n",
        "\n",
        "test_all_dataset = tf.data.Dataset.from_generator(lambda: test_data_all, output_types=(tf.int32))\n",
        "\n",
        "BATCH_SIZE = 32\n",
        "test_all_batched = test_all_dataset.padded_batch(BATCH_SIZE, padded_shapes=((None,)))"
      ],
      "execution_count": 0,
      "outputs": []
    },
    {
      "cell_type": "code",
      "metadata": {
        "id": "QVEdOLXjXVDM",
        "colab_type": "code",
        "colab": {}
      },
      "source": [
        "BATCH_SIZE = 32\n",
        "train_all_batched = train_all_dataset.padded_batch(BATCH_SIZE, padded_shapes=((None,), ()))\n",
        "\n",
        "\n",
        "NB_BATCHES = math.ceil(len(sorted_all)/BATCH_SIZE)\n",
        "NB_BATCHES_TEST = NB_BATCHES // 10\n",
        "\n",
        "all_dataset.shuffle(NB_BATCHES)\n",
        "validation_dataset = train_all_batched.take(NB_BATCHES_TEST)\n",
        "train_dataset = train_all_batched.skip(NB_BATCHES_TEST)"
      ],
      "execution_count": 0,
      "outputs": []
    },
    {
      "cell_type": "code",
      "metadata": {
        "id": "_EEN6Mu6Y2i0",
        "colab_type": "code",
        "colab": {}
      },
      "source": [
        "class DCNN(tf.keras.Model):\n",
        "    def __init__(self, vocab_size, emb_dim=128, nb_filters=50, FFN_units=512, nb_classes=2, dropout_rate=0.1, training=False, name=\"dcnn\"):\n",
        "        super(DCNN, self).__init__(name=name)\n",
        "        \n",
        "        self.embedding = layers.Embedding(vocab_size, emb_dim)\n",
        "        self.bigram = layers.Conv1D(filters=nb_filters, kernel_size=2, padding=\"valid\", activation=\"relu\")\n",
        "        self.trigram = layers.Conv1D(filters=128, kernel_size=3, padding=\"valid\", activation=\"relu\")\n",
        "        self.fourgram = layers.Conv1D(filters=128, kernel_size=4, padding=\"valid\", activation=\"relu\")\n",
        "        self.pool = layers.GlobalMaxPooling1D()\n",
        "        self.dense_1 = layers.Dense(units=FFN_units, activation=\"tanh\")\n",
        "        self.dropout = layers.Dropout(rate=dropout_rate)\n",
        "        self.lstm = layers.LSTM(64, kernel_regularizer=regularizers.l2(0.05))\n",
        "\n",
        "        if nb_classes is 2:\n",
        "            self.last_dense = layers.Dense(1, activation=\"sigmoid\")\n",
        "        else:\n",
        "            self.last_dense = layers.Dense(nb_classes, activation=\"softmax\")\n",
        "        \n",
        "    def call(self, inputs, training):\n",
        "\n",
        "        x = self.embedding(inputs)\n",
        "        x_1 = self.bigram(x)\n",
        "        x_1 = self.pool(x_1)\n",
        "        x_1 = self.dropout(x_1, training)\n",
        "        x_2 = self.trigram(x)\n",
        "        x_2 = self.pool(x_2)\n",
        "        x_2 = self.dropout(x_2, training)\n",
        "        x_3 = self.fourgram(x)\n",
        "        x_3 = self.pool(x_3)\n",
        "        x_4 = self.lstm(x)\n",
        "        x_4 = self.dropout(x_4, training)\n",
        "\n",
        "        merged = tf.concat([x_1, x_2, x_3, x_4], axis=-1)\n",
        "        \n",
        "        merged = self.dense_1(merged)\n",
        "        merged = self.dropout(merged, training)\n",
        "        output = self.last_dense(merged)\n",
        "\n",
        "        return output"
      ],
      "execution_count": 0,
      "outputs": []
    },
    {
      "cell_type": "code",
      "metadata": {
        "id": "ZD_UU_8LiM7Z",
        "colab_type": "code",
        "colab": {
          "base_uri": "https://localhost:8080/",
          "height": 956
        },
        "outputId": "3fce5c65-019b-4d84-ef33-8d8799c045a1"
      },
      "source": [
        "x_train, x_validation, y_train, y_validation = train_test_split(\n",
        "\t\ttrain_data_inputs,\n",
        "\t\tdata_labels,\n",
        "\t\ttest_size=0.2,\n",
        "\t\trandom_state=125,\n",
        "\t\tshuffle=True)\n",
        "x_train = sequence.pad_sequences(x_train, maxlen=EMB_DIM)\n",
        "x_validation = sequence.pad_sequences(x_validation, maxlen=EMB_DIM)\n",
        "\n",
        "x_test = sequence.pad_sequences(test_data_inputs, maxlen=EMB_DIM)\n",
        "\n",
        "def get_model(vocab_size, emb_dim=128, nb_filters=50, FFN_units=512, nb_classes=2, dropout_rate=0.1, training=False, name=\"dcnn\"):\n",
        "\n",
        "    model = Sequential()\n",
        "    model.add(layers.Embedding(vocab_size, emb_dim))\n",
        "    model.add(layers.LSTM(128, kernel_regularizer=regularizers.l2(0.15)))\n",
        "    model.add(layers.Dropout(0.4))\n",
        "    model.add(layers.Dense(units=128, activation=\"tanh\"))\n",
        "    model.add(layers.Dropout(0.4))\n",
        "    model.add(layers.Dense(1, activation=\"sigmoid\"))\n",
        "    model.summary()\n",
        "\n",
        "    return model\n",
        "\n",
        "dcnn = get_model(vocab_size=VOCAB_SIZE, emb_dim=EMB_DIM, nb_filters=NB_FILTERS, FFN_units=FNN_units, nb_classes=NB_CLASSES, dropout_rate=DROPOUT_RATE, training=False, name=\"dcnn\")\n",
        "\n",
        "dcnn.compile(loss='binary_crossentropy', optimizer='adam', metrics=['accuracy'])\n",
        "\n",
        "history = dcnn.fit(x_train, y_train,  epochs=NB_EPOCHS, callbacks=[MyCustomCallback(), tensorboard_callback])\n",
        "\n",
        "eval = dcnn.evaluate(x_validation, y_validation)\n",
        "\n",
        "plot_model_history(history)"
      ],
      "execution_count": 462,
      "outputs": [
        {
          "output_type": "stream",
          "text": [
            "Model: \"sequential_39\"\n",
            "_________________________________________________________________\n",
            "Layer (type)                 Output Shape              Param #   \n",
            "=================================================================\n",
            "embedding_121 (Embedding)    (None, None, 300)         9156600   \n",
            "_________________________________________________________________\n",
            "lstm_86 (LSTM)               (None, 128)               219648    \n",
            "_________________________________________________________________\n",
            "dropout_106 (Dropout)        (None, 128)               0         \n",
            "_________________________________________________________________\n",
            "dense_191 (Dense)            (None, 128)               16512     \n",
            "_________________________________________________________________\n",
            "dropout_107 (Dropout)        (None, 128)               0         \n",
            "_________________________________________________________________\n",
            "dense_192 (Dense)            (None, 1)                 129       \n",
            "=================================================================\n",
            "Total params: 9,392,889\n",
            "Trainable params: 9,392,889\n",
            "Non-trainable params: 0\n",
            "_________________________________________________________________\n",
            "Epoch 1/4\n",
            "191/191 [==============================] - 21s 108ms/step - loss: 7.9351 - accuracy: 0.6236\n",
            "Epoch 2/4\n",
            "191/191 [==============================] - 20s 106ms/step - loss: 0.7029 - accuracy: 0.7430\n",
            "Epoch 3/4\n",
            "191/191 [==============================] - 20s 106ms/step - loss: 0.6721 - accuracy: 0.7992\n",
            "Epoch 4/4\n",
            "191/191 [==============================] - 20s 106ms/step - loss: 0.4802 - accuracy: 0.8808\n",
            "48/48 [==============================] - 0s 10ms/step - loss: 0.6518 - accuracy: 0.7367\n"
          ],
          "name": "stdout"
        },
        {
          "output_type": "stream",
          "text": [
            "/usr/local/lib/python3.6/dist-packages/ipykernel_launcher.py:8: MatplotlibDeprecationWarning: Passing the minor parameter of set_xticks() positionally is deprecated since Matplotlib 3.2; the parameter will become keyword-only two minor releases later.\n",
            "  \n",
            "/usr/local/lib/python3.6/dist-packages/ipykernel_launcher.py:15: MatplotlibDeprecationWarning: Passing the minor parameter of set_xticks() positionally is deprecated since Matplotlib 3.2; the parameter will become keyword-only two minor releases later.\n",
            "  from ipykernel import kernelapp as app\n"
          ],
          "name": "stderr"
        },
        {
          "output_type": "display_data",
          "data": {
            "image/png": "[encoded data removed]",
            "text/plain": [
              "<Figure size 1080x360 with 2 Axes>"
            ]
          },
          "metadata": {
            "tags": [],
            "needs_background": "light"
          }
        }
      ]
    },
    {
      "cell_type": "code",
      "metadata": {
        "id": "RuSAAcLG5Dj8",
        "colab_type": "code",
        "colab": {}
      },
      "source": [
        ""
      ],
      "execution_count": 0,
      "outputs": []
    },
    {
      "cell_type": "code",
      "metadata": {
        "id": "BGdH8GMnekhX",
        "colab_type": "code",
        "colab": {}
      },
      "source": [
        "VOCAB_SIZE=len(tokenizer.vocab)\n",
        "EMB_DIM = 300\n",
        "NB_FILTERS = 256\n",
        "FNN_units = 64\n",
        "NB_CLASSES = 2\n",
        "\n",
        "DROPOUT_RATE = 0.5\n",
        "\n",
        "NB_EPOCHS = 4"
      ],
      "execution_count": 0,
      "outputs": []
    },
    {
      "cell_type": "code",
      "metadata": {
        "id": "6VeUoCYwIZ_u",
        "colab_type": "code",
        "colab": {}
      },
      "source": [
        "def plot_model_history(model_history):\n",
        "    fig, axs = plt.subplots(1, 2, figsize=(15, 5))\n",
        "    # summarize history for accuracy\n",
        "    axs[0].plot(range(1, len(model_history.history['accuracy']) + 1), model_history.history['accuracy'])\n",
        "    axs[0].set_title('Model Accuracy')\n",
        "    axs[0].set_ylabel('Accuracy')\n",
        "    axs[0].set_xlabel('Epoch')\n",
        "    axs[0].set_xticks(np.arange(1, len(model_history.history['accuracy']) + 1), len(model_history.history['accuracy'])/10)\n",
        "    axs[0].legend(['train', 'val'], loc='best')\n",
        "    # summarize history for loss\n",
        "    axs[1].plot(range(1, len(model_history.history['loss']) + 1), model_history.history['loss'])\n",
        "    axs[1].set_title('Model Loss')\n",
        "    axs[1].set_ylabel('Loss')\n",
        "    axs[1].set_xlabel('Epoch')\n",
        "    axs[1].set_xticks(np.arange(1, len(model_history.history['loss']) + 1), len(model_history.history['loss'])/10)\n",
        "    axs[1].legend(['train', 'val'], loc='best')\n",
        "    plt.show()\n",
        "logs_path = \"/content/drive/My Drive/ssl/logs\"\n",
        "logdir = os.path.join(logs_path, \"log_file\")\n",
        "tensorboard_callback = tf.keras.callbacks.TensorBoard(logdir, histogram_freq=1)"
      ],
      "execution_count": 0,
      "outputs": []
    },
    {
      "cell_type": "code",
      "metadata": {
        "id": "DTPiV6lefDKH",
        "colab_type": "code",
        "colab": {
          "base_uri": "https://localhost:8080/",
          "height": 565
        },
        "outputId": "5746f8a5-fb28-4a92-fd50-a8dc1c12eff2"
      },
      "source": [
        "dcnn = DCNN(vocab_size=VOCAB_SIZE, emb_dim=EMB_DIM, nb_filters=NB_FILTERS, FFN_units=FNN_units, nb_classes=NB_CLASSES, dropout_rate=DROPOUT_RATE, training=False, name=\"dcnn\")\n",
        "# dcnn = get_model(vocab_size=VOCAB_SIZE, emb_dim=EMB_DIM, nb_filters=NB_FILTERS, FFN_units=FNN_units, nb_classes=NB_CLASSES, dropout_rate=DROPOUT_RATE, training=False, name=\"dcnn\")\n",
        "dcnn.compile(loss='binary_crossentropy', optimizer='adam', metrics=['accuracy'])\n",
        "        \n",
        "history = dcnn.fit(train_dataset, epochs=NB_EPOCHS, callbacks=[MyCustomCallback(), tensorboard_callback])\n",
        "\n",
        "eval = dcnn.evaluate(validation_dataset)\n",
        "\n",
        "plot_model_history(history)"
      ],
      "execution_count": 415,
      "outputs": [
        {
          "output_type": "stream",
          "text": [
            "Epoch 1/3\n",
            "215/215 [==============================] - 20s 93ms/step - loss: 2.4832 - accuracy: 0.7157\n",
            "Epoch 2/3\n",
            "215/215 [==============================] - 20s 92ms/step - loss: 0.3290 - accuracy: 0.8618\n",
            "Epoch 3/3\n",
            "215/215 [==============================] - 20s 92ms/step - loss: 0.1447 - accuracy: 0.9492\n",
            "23/23 [==============================] - 0s 8ms/step - loss: 0.7252 - accuracy: 0.7514\n"
          ],
          "name": "stdout"
        },
        {
          "output_type": "stream",
          "text": [
            "/usr/local/lib/python3.6/dist-packages/ipykernel_launcher.py:8: MatplotlibDeprecationWarning: Passing the minor parameter of set_xticks() positionally is deprecated since Matplotlib 3.2; the parameter will become keyword-only two minor releases later.\n",
            "  \n",
            "/usr/local/lib/python3.6/dist-packages/ipykernel_launcher.py:15: MatplotlibDeprecationWarning: Passing the minor parameter of set_xticks() positionally is deprecated since Matplotlib 3.2; the parameter will become keyword-only two minor releases later.\n",
            "  from ipykernel import kernelapp as app\n"
          ],
          "name": "stderr"
        },
        {
          "output_type": "display_data",
          "data": {
            "image/png": "[encoded data removed]",
            "text/plain": [
              "<Figure size 1080x360 with 2 Axes>"
            ]
          },
          "metadata": {
            "tags": [],
            "needs_background": "light"
          }
        }
      ]
    },
    {
      "cell_type": "code",
      "metadata": {
        "id": "UsLqm2MRg-Pr",
        "colab_type": "code",
        "colab": {}
      },
      "source": [
        "output_csv_path = \"/content/drive/My Drive/ssl/out.csv\"\n",
        "predictions = dcnn.predict(x_train)\n",
        "\n",
        "with open(output_csv_path, 'w') as file:\n",
        "    _str = ','.join(['id', 'target'])\n",
        "    file.write(_str + '\\n')\n",
        "\n",
        "    for index,row in test_df.iterrows():\n",
        "\n",
        "        _id = row['id']\n",
        "        prediction = math.floor(predictions[index] *2)\n",
        "        \n",
        "        _str = ','.join([str(_id), str(int(prediction))])\n",
        "        file.write(_str)\n",
        "        file.write('\\n')"
      ],
      "execution_count": 0,
      "outputs": []
    },
    {
      "cell_type": "code",
      "metadata": {
        "id": "Ay9NFmfVgLO0",
        "colab_type": "code",
        "colab": {}
      },
      "source": [
        "checkpoint_path = \"/content/drive/My Drive/ssl/\"\n",
        "ckpt = tf.train.Checkpoint(Dcnn=dcnn)\n",
        "\n",
        "ckpt_manager = tf.train.CheckpointManager(ckpt, checkpoint_path, max_to_keep=1)\n",
        "if ckpt_manager.latest_checkpoint:\n",
        "    ckpt.restore(ckpt_manager.latest_checkpoint)\n",
        "    print(\"Latest checkoint restored !\")\n",
        "    \n",
        "class MyCustomCallback(tf.keras.callbacks.Callback):\n",
        "    def on_epoc_end(self, epoch, logs=None):\n",
        "        ckpt.save()\n",
        "        print(\"Checkpoint saved at path {}\".format(checkpoint_path))"
      ],
      "execution_count": 0,
      "outputs": []
    },
    {
      "cell_type": "code",
      "metadata": {
        "id": "oO1Vlyl5qAc1",
        "colab_type": "code",
        "colab": {}
      },
      "source": [
        "def get_prediction(sentence):\n",
        "    tokens = encode_sentence(sentence)\n",
        "    inputs = tf.expand_dims(tokens,0)\n",
        "\n",
        "    output = dcnn(inputs, training=False)\n",
        "    sentiment = math.floor(output*2)\n",
        "    \n",
        "    return sentiment"
      ],
      "execution_count": 0,
      "outputs": []
    },
    {
      "cell_type": "code",
      "metadata": {
        "id": "vsLHYhbRqk9z",
        "colab_type": "code",
        "colab": {}
      },
      "source": [
        "output_csv_path = \"/content/drive/My Drive/ssl/out.csv\"\n",
        "\n",
        "with open(output_csv_path, 'w') as file:\n",
        "    _str = ','.join(['id', 'target'])\n",
        "    file.write(_str + '\\n')\n",
        "\n",
        "    for index,row in test_df.iterrows():\n",
        "        text = row['text']\n",
        "        if len(text.split(\" \")) < 4:\n",
        "            text += \" 0 0 0\"\n",
        "        \n",
        "        _id = row['id']\n",
        "        prediction = get_prediction(text)\n",
        "        \n",
        "        _str = ','.join([str(_id), str(int(prediction))])\n",
        "        file.write(_str)\n",
        "        file.write('\\n')"
      ],
      "execution_count": 0,
      "outputs": []
    }
  ]
}